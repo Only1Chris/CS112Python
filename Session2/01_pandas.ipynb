{
 "cells": [
  {
   "cell_type": "markdown",
   "metadata": {},
   "source": [
    "## Pandas数据类型\n",
    "- 一维Series\n",
    "- 二维DataFrame\n",
    "\n",
    "![](img/base_01_pandas_5_0.png)"
   ]
  },
  {
   "cell_type": "code",
   "execution_count": 2,
   "metadata": {},
   "outputs": [
    {
     "data": {
      "text/plain": [
       "'1.4.2'"
      ]
     },
     "execution_count": 2,
     "metadata": {},
     "output_type": "execute_result"
    }
   ],
   "source": [
    "import numpy as np\n",
    "import pandas as pd\n",
    "pd.__version__"
   ]
  },
  {
   "cell_type": "markdown",
   "metadata": {},
   "source": [
    "## 1. Series"
   ]
  },
  {
   "cell_type": "code",
   "execution_count": null,
   "metadata": {},
   "outputs": [],
   "source": [
    "# 普通列表\n",
    "subjects = [\"军训\", \"思修\", \"史纲\", \"马原\", \"毛概\", \"体育1\", \"体育2\"]\n",
    "score = [65, 80, 75, 83, 77, 100, 98]\n",
    "print(subjects)\n",
    "print(score)"
   ]
  },
  {
   "cell_type": "code",
   "execution_count": null,
   "metadata": {
    "tags": []
   },
   "outputs": [],
   "source": [
    "#把列表转化为Series\n",
    "s1 = pd.Series(subjects)\n",
    "type(s1)"
   ]
  },
  {
   "cell_type": "code",
   "execution_count": null,
   "metadata": {
    "pycharm": {
     "name": "#%%\n"
    }
   },
   "outputs": [],
   "source": [
    "# 构造Series\n",
    "s2 = pd.Series(score, name=\"score\")\n",
    "print(s1)\n",
    "print(s2)"
   ]
  },
  {
   "cell_type": "markdown",
   "metadata": {},
   "source": [
    "## 2. DataFrame"
   ]
  },
  {
   "cell_type": "code",
   "execution_count": null,
   "metadata": {},
   "outputs": [],
   "source": [
    "# 把两个Series合并为一个字典，然后创建DataFrame\n",
    "df = pd.DataFrame({'Subjects': s1, 'Score': s2})\n",
    "df"
   ]
  },
  {
   "cell_type": "markdown",
   "metadata": {},
   "source": [
    "### 2.1 读取数据以及基础操作\n",
    "一般英文数据的csv文件读取没什问题。\n",
    "- pd.read_csv(filepath, encoding=None)  读取csv文件\n",
    "- pd.read_excel(filepath, encoding=None) 读取xls、xlsx文件\n",
    "\n",
    "\n",
    "**参数解读**\n",
    "- filepath  待读取文件路径\n",
    "- encoding   文件编码方式主要是utf-8、gbk。如果不知道编码方式，可以结合chardet库 (参考Python常见错误)"
   ]
  },
  {
   "cell_type": "code",
   "execution_count": 3,
   "metadata": {},
   "outputs": [
    {
     "data": {
      "text/html": [
       "<div>\n",
       "<style scoped>\n",
       "    .dataframe tbody tr th:only-of-type {\n",
       "        vertical-align: middle;\n",
       "    }\n",
       "\n",
       "    .dataframe tbody tr th {\n",
       "        vertical-align: top;\n",
       "    }\n",
       "\n",
       "    .dataframe thead th {\n",
       "        text-align: right;\n",
       "    }\n",
       "</style>\n",
       "<table border=\"1\" class=\"dataframe\">\n",
       "  <thead>\n",
       "    <tr style=\"text-align: right;\">\n",
       "      <th></th>\n",
       "      <th>subject</th>\n",
       "      <th>year</th>\n",
       "      <th>score</th>\n",
       "      <th>credits</th>\n",
       "      <th>property</th>\n",
       "    </tr>\n",
       "  </thead>\n",
       "  <tbody>\n",
       "    <tr>\n",
       "      <th>0</th>\n",
       "      <td>程序设计基础A6</td>\n",
       "      <td>2019</td>\n",
       "      <td>96.0</td>\n",
       "      <td>1</td>\n",
       "      <td>任选</td>\n",
       "    </tr>\n",
       "    <tr>\n",
       "      <th>1</th>\n",
       "      <td>机械制图D5</td>\n",
       "      <td>2018</td>\n",
       "      <td>79.0</td>\n",
       "      <td>4</td>\n",
       "      <td>任选</td>\n",
       "    </tr>\n",
       "    <tr>\n",
       "      <th>2</th>\n",
       "      <td>程序设计基础B3</td>\n",
       "      <td>2016</td>\n",
       "      <td>100.0</td>\n",
       "      <td>5</td>\n",
       "      <td>必修</td>\n",
       "    </tr>\n",
       "    <tr>\n",
       "      <th>3</th>\n",
       "      <td>微积分C1</td>\n",
       "      <td>2016</td>\n",
       "      <td>65.0</td>\n",
       "      <td>3</td>\n",
       "      <td>必修</td>\n",
       "    </tr>\n",
       "    <tr>\n",
       "      <th>4</th>\n",
       "      <td>微积分A8</td>\n",
       "      <td>2015</td>\n",
       "      <td>85.0</td>\n",
       "      <td>5</td>\n",
       "      <td>必修</td>\n",
       "    </tr>\n",
       "    <tr>\n",
       "      <th>...</th>\n",
       "      <td>...</td>\n",
       "      <td>...</td>\n",
       "      <td>...</td>\n",
       "      <td>...</td>\n",
       "      <td>...</td>\n",
       "    </tr>\n",
       "    <tr>\n",
       "      <th>96</th>\n",
       "      <td>大学物理A6</td>\n",
       "      <td>2016</td>\n",
       "      <td>82.0</td>\n",
       "      <td>1</td>\n",
       "      <td>限选</td>\n",
       "    </tr>\n",
       "    <tr>\n",
       "      <th>97</th>\n",
       "      <td>程序设计基础D5</td>\n",
       "      <td>2016</td>\n",
       "      <td>62.0</td>\n",
       "      <td>2</td>\n",
       "      <td>限选</td>\n",
       "    </tr>\n",
       "    <tr>\n",
       "      <th>98</th>\n",
       "      <td>微积分D6</td>\n",
       "      <td>2019</td>\n",
       "      <td>86.0</td>\n",
       "      <td>3</td>\n",
       "      <td>限选</td>\n",
       "    </tr>\n",
       "    <tr>\n",
       "      <th>99</th>\n",
       "      <td>电工电子技术C2</td>\n",
       "      <td>2015</td>\n",
       "      <td>66.0</td>\n",
       "      <td>4</td>\n",
       "      <td>任选</td>\n",
       "    </tr>\n",
       "    <tr>\n",
       "      <th>100</th>\n",
       "      <td>程序设计基础B4</td>\n",
       "      <td>2015</td>\n",
       "      <td>61.0</td>\n",
       "      <td>4</td>\n",
       "      <td>限选</td>\n",
       "    </tr>\n",
       "  </tbody>\n",
       "</table>\n",
       "<p>101 rows × 5 columns</p>\n",
       "</div>"
      ],
      "text/plain": [
       "      subject  year  score  credits property\n",
       "0    程序设计基础A6  2019   96.0        1       任选\n",
       "1      机械制图D5  2018   79.0        4       任选\n",
       "2    程序设计基础B3  2016  100.0        5       必修\n",
       "3       微积分C1  2016   65.0        3       必修\n",
       "4       微积分A8  2015   85.0        5       必修\n",
       "..        ...   ...    ...      ...      ...\n",
       "96     大学物理A6  2016   82.0        1       限选\n",
       "97   程序设计基础D5  2016   62.0        2       限选\n",
       "98      微积分D6  2019   86.0        3       限选\n",
       "99   电工电子技术C2  2015   66.0        4       任选\n",
       "100  程序设计基础B4  2015   61.0        4       限选\n",
       "\n",
       "[101 rows x 5 columns]"
      ]
     },
     "execution_count": 3,
     "metadata": {},
     "output_type": "execute_result"
    }
   ],
   "source": [
    "# 读取csv文件，直接得到DataFrame\n",
    "df = pd.read_csv('data/score.csv', encoding='gbk')\n",
    "df"
   ]
  },
  {
   "cell_type": "code",
   "execution_count": null,
   "metadata": {
    "pycharm": {
     "name": "#%%\n"
    }
   },
   "outputs": [],
   "source": [
    "df.head()#查看数据的前几行"
   ]
  },
  {
   "cell_type": "code",
   "execution_count": null,
   "metadata": {
    "pycharm": {
     "name": "#%%\n"
    }
   },
   "outputs": [],
   "source": [
    "df.tail()#查看数据的最后几行"
   ]
  },
  {
   "cell_type": "code",
   "execution_count": null,
   "metadata": {
    "pycharm": {
     "name": "#%%\n"
    }
   },
   "outputs": [],
   "source": [
    "df.describe()#一键查看数据描述"
   ]
  },
  {
   "cell_type": "code",
   "execution_count": null,
   "metadata": {},
   "outputs": [],
   "source": [
    "df['year'].unique()#某个Series的值有多少种"
   ]
  },
  {
   "cell_type": "code",
   "execution_count": null,
   "metadata": {},
   "outputs": [],
   "source": [
    "df['year'].nunique()#某个Series的值有哪些"
   ]
  },
  {
   "cell_type": "code",
   "execution_count": null,
   "metadata": {},
   "outputs": [],
   "source": [
    "df['year'].value_counts()#统计Series中各个元素数量"
   ]
  },
  {
   "cell_type": "markdown",
   "metadata": {},
   "source": [
    "### 常规操作：索引与切片、增删查改、排序\n"
   ]
  },
  {
   "cell_type": "markdown",
   "metadata": {},
   "source": [
    "- 按列索引 df['Series_Name']\n",
    "- 按列索引 df.iloc[2]\n",
    "- 按照逻辑判断值索引\n",
    "\n",
    " 还可以选择多行、选择多列、选择特定列、选择单个值、选择部分值……\n"
   ]
  },
  {
   "cell_type": "code",
   "execution_count": null,
   "metadata": {},
   "outputs": [],
   "source": [
    "#按列检索\n",
    "df['subject']"
   ]
  },
  {
   "cell_type": "code",
   "execution_count": null,
   "metadata": {},
   "outputs": [],
   "source": [
    "#怎样检索多列？"
   ]
  },
  {
   "cell_type": "code",
   "execution_count": null,
   "metadata": {},
   "outputs": [],
   "source": [
    "#按行检索\n",
    "df.iloc[2]"
   ]
  },
  {
   "cell_type": "code",
   "execution_count": 37,
   "metadata": {},
   "outputs": [
    {
     "data": {
      "text/html": [
       "<div>\n",
       "<style scoped>\n",
       "    .dataframe tbody tr th:only-of-type {\n",
       "        vertical-align: middle;\n",
       "    }\n",
       "\n",
       "    .dataframe tbody tr th {\n",
       "        vertical-align: top;\n",
       "    }\n",
       "\n",
       "    .dataframe thead th {\n",
       "        text-align: right;\n",
       "    }\n",
       "</style>\n",
       "<table border=\"1\" class=\"dataframe\">\n",
       "  <thead>\n",
       "    <tr style=\"text-align: right;\">\n",
       "      <th></th>\n",
       "      <th>subject</th>\n",
       "      <th>year</th>\n",
       "      <th>score</th>\n",
       "      <th>credits</th>\n",
       "      <th>property</th>\n",
       "    </tr>\n",
       "  </thead>\n",
       "  <tbody>\n",
       "    <tr>\n",
       "      <th>2</th>\n",
       "      <td>程序设计基础B3</td>\n",
       "      <td>2016</td>\n",
       "      <td>100.0</td>\n",
       "      <td>5</td>\n",
       "      <td>必修</td>\n",
       "    </tr>\n",
       "    <tr>\n",
       "      <th>3</th>\n",
       "      <td>微积分C1</td>\n",
       "      <td>2016</td>\n",
       "      <td>65.0</td>\n",
       "      <td>3</td>\n",
       "      <td>必修</td>\n",
       "    </tr>\n",
       "    <tr>\n",
       "      <th>4</th>\n",
       "      <td>微积分A8</td>\n",
       "      <td>2015</td>\n",
       "      <td>85.0</td>\n",
       "      <td>5</td>\n",
       "      <td>必修</td>\n",
       "    </tr>\n",
       "  </tbody>\n",
       "</table>\n",
       "</div>"
      ],
      "text/plain": [
       "    subject  year  score  credits property\n",
       "2  程序设计基础B3  2016  100.0        5       必修\n",
       "3     微积分C1  2016   65.0        3       必修\n",
       "4     微积分A8  2015   85.0        5       必修"
      ]
     },
     "execution_count": 37,
     "metadata": {},
     "output_type": "execute_result"
    }
   ],
   "source": [
    "#检索连续多行\n",
    "df.iloc[2:5]"
   ]
  },
  {
   "cell_type": "code",
   "execution_count": null,
   "metadata": {},
   "outputs": [],
   "source": [
    "#检索不连续多行?， 例如，检索第2～5行，7～12行，和第15行\n"
   ]
  },
  {
   "cell_type": "code",
   "execution_count": null,
   "metadata": {},
   "outputs": [],
   "source": [
    "# 排序,默认按照升序排列\n",
    "df = df.sort_values(by=\"score\", ascending=True)\n",
    "df"
   ]
  },
  {
   "cell_type": "markdown",
   "metadata": {},
   "source": [
    "### 查看是否有缺失值\n",
    "- df.isna()  nan所在的位置返回True，正常数据返回False\n",
    "- df.notna()  df.isna()反向操作\n",
    "\n",
    "###  缺失项处理\n",
    "\n",
    "- df.dropna(axis, inplace)  默认axis=0 #axis=1，当该列全部数据都不是nan时，该列保留。\n",
    "df.dropna(axis=1)\n",
    "- df.fillna(某个数or定义的字典, inplace)  填充\n",
    "\n",
    "\n",
    "上述两种缺失值操作都有inplace参数可供使用"
   ]
  },
  {
   "cell_type": "code",
   "execution_count": null,
   "metadata": {},
   "outputs": [],
   "source": [
    "df.isna()"
   ]
  },
  {
   "cell_type": "code",
   "execution_count": null,
   "metadata": {
    "pycharm": {
     "name": "#%%\n"
    }
   },
   "outputs": [],
   "source": [
    "df = df.dropna() # 去除有缺失值的项\n",
    "df"
   ]
  },
  {
   "cell_type": "code",
   "execution_count": null,
   "metadata": {},
   "outputs": [],
   "source": [
    "# 重新读入文件\n",
    "df = pd.read_csv('data/score.csv', encoding='gbk')\n",
    "df"
   ]
  },
  {
   "cell_type": "code",
   "execution_count": 18,
   "metadata": {},
   "outputs": [],
   "source": [
    "# 处理缺失值\n",
    "df = df.fillna(100) # 使用默认值填充确实项\n",
    "\n"
   ]
  },
  {
   "cell_type": "markdown",
   "metadata": {},
   "source": [
    "### 2.3 函数应用\n",
    "- 分组：groupby, \n",
    "- 数据透视表: pivot_table\n",
    "- 聚合：agg，使用自定义函数：apply, map\n",
    "\n",
    "类似于Excel操作"
   ]
  },
  {
   "cell_type": "code",
   "execution_count": null,
   "metadata": {},
   "outputs": [],
   "source": [
    "#分组和聚合\n",
    "df.groupby('year')\n",
    "\n",
    "for group in df.groupby('year'):\n",
    "    print(group)"
   ]
  },
  {
   "cell_type": "code",
   "execution_count": null,
   "metadata": {},
   "outputs": [],
   "source": [
    "#显示其中一个分组\n",
    "df.groupby('year').get_group(2020)\n",
    "''"
   ]
  },
  {
   "cell_type": "code",
   "execution_count": 6,
   "metadata": {
    "pycharm": {
     "name": "#%%\n"
    }
   },
   "outputs": [
    {
     "name": "stderr",
     "output_type": "stream",
     "text": [
      "/var/folders/1f/fnk3lt8s1fd0gt7y77vf2mj00000gn/T/ipykernel_33000/1117411582.py:3: FutureWarning: Indexing with multiple keys (implicitly converted to a tuple of keys) will be deprecated, use a list instead.\n",
      "  df.groupby('year')['score','credits'].agg({\"score\": np.mean,\"credits\":np.sum})\n"
     ]
    },
    {
     "data": {
      "text/html": [
       "<div>\n",
       "<style scoped>\n",
       "    .dataframe tbody tr th:only-of-type {\n",
       "        vertical-align: middle;\n",
       "    }\n",
       "\n",
       "    .dataframe tbody tr th {\n",
       "        vertical-align: top;\n",
       "    }\n",
       "\n",
       "    .dataframe thead th {\n",
       "        text-align: right;\n",
       "    }\n",
       "</style>\n",
       "<table border=\"1\" class=\"dataframe\">\n",
       "  <thead>\n",
       "    <tr style=\"text-align: right;\">\n",
       "      <th></th>\n",
       "      <th>score</th>\n",
       "      <th>credits</th>\n",
       "    </tr>\n",
       "    <tr>\n",
       "      <th>year</th>\n",
       "      <th></th>\n",
       "      <th></th>\n",
       "    </tr>\n",
       "  </thead>\n",
       "  <tbody>\n",
       "    <tr>\n",
       "      <th>2015</th>\n",
       "      <td>82.200000</td>\n",
       "      <td>65</td>\n",
       "    </tr>\n",
       "    <tr>\n",
       "      <th>2016</th>\n",
       "      <td>75.631579</td>\n",
       "      <td>65</td>\n",
       "    </tr>\n",
       "    <tr>\n",
       "      <th>2017</th>\n",
       "      <td>78.000000</td>\n",
       "      <td>53</td>\n",
       "    </tr>\n",
       "    <tr>\n",
       "      <th>2018</th>\n",
       "      <td>82.769231</td>\n",
       "      <td>47</td>\n",
       "    </tr>\n",
       "    <tr>\n",
       "      <th>2019</th>\n",
       "      <td>80.611111</td>\n",
       "      <td>53</td>\n",
       "    </tr>\n",
       "    <tr>\n",
       "      <th>2020</th>\n",
       "      <td>83.500000</td>\n",
       "      <td>38</td>\n",
       "    </tr>\n",
       "  </tbody>\n",
       "</table>\n",
       "</div>"
      ],
      "text/plain": [
       "          score  credits\n",
       "year                    \n",
       "2015  82.200000       65\n",
       "2016  75.631579       65\n",
       "2017  78.000000       53\n",
       "2018  82.769231       47\n",
       "2019  80.611111       53\n",
       "2020  83.500000       38"
      ]
     },
     "execution_count": 6,
     "metadata": {},
     "output_type": "execute_result"
    }
   ],
   "source": [
    "import numpy as np\n",
    "# 按照年份统计平均分和学分数\n",
    "df.groupby('year')['score','credits'].agg({\"score\": np.mean,\"credits\":np.sum})"
   ]
  },
  {
   "cell_type": "code",
   "execution_count": null,
   "metadata": {},
   "outputs": [],
   "source": []
  },
  {
   "cell_type": "code",
   "execution_count": null,
   "metadata": {},
   "outputs": [],
   "source": [
    "#数据透视表\n",
    "pd.pivot_table(df, index='year', columns='property', values='score',aggfunc=np.mean)"
   ]
  },
  {
   "cell_type": "markdown",
   "metadata": {},
   "source": [
    "### 练习：\n",
    "1. 在成绩表中加入GPA列\n",
    "2. 计算加权GPA"
   ]
  },
  {
   "cell_type": "markdown",
   "metadata": {},
   "source": [
    "score to GPA \n",
    "  -  90～100 GPA: 4.0\n",
    "  -  85～89 GPA: 3.6\n",
    "  -  80～84 GPA: 3.3\n",
    "  -  77～80 GPA: 3.0 \n",
    "  -  73～77 GPA: 2.6\n",
    "  -  70～72 GPA: 2.3\n",
    "  -  67～69 GPA: 2.0\n",
    "  -  63～66 GPA: 1.6\n",
    "  -  60～62 GPA: 1.3\n",
    "  -    <60     GPA: 0"
   ]
  },
  {
   "cell_type": "code",
   "execution_count": null,
   "metadata": {},
   "outputs": [],
   "source": [
    "def score_to_gpa(score):\n",
    "    if score >= 90:\n",
    "        gpa = 4.0\n",
    "    elif score >= 85:\n",
    "        gpa = 3.6\n",
    "    elif score >= 80:\n",
    "        gpa = 3.3\n",
    "    elif score >= 77:\n",
    "        gpa = 3.0\n",
    "    elif score >= 73:\n",
    "        gpa = 2.6\n",
    "    elif score >= 70:\n",
    "        gpa = 2.3\n",
    "    elif score >= 67:\n",
    "        gpa = 2.0\n",
    "    elif score >= 63:\n",
    "        gpa = 1.6\n",
    "    elif score >= 60:\n",
    "        gpa = 1.3\n",
    "    else:\n",
    "        gpa = 0\n",
    "    return gpa\n",
    "\n",
    "score_to_gpa(87)"
   ]
  },
  {
   "cell_type": "code",
   "execution_count": null,
   "metadata": {},
   "outputs": [],
   "source": [
    "# 使用自定义函数：apply\n",
    "df[\"gpa\"] = df[\"score\"].apply(score_to_gpa)\n",
    "df"
   ]
  },
  {
   "cell_type": "code",
   "execution_count": null,
   "metadata": {},
   "outputs": [],
   "source": [
    "# 使用apply函数实现两列的加权平均\n",
    "def wavg(group, avg_name, weight_name):\n",
    "    d = group[avg_name]\n",
    "    w = group[weight_name]\n",
    "    return (d * w).sum() / w.sum()\n",
    "\n",
    "GPA_year = df.groupby('year').apply(wavg, \"gpa\", \"credits\")\n",
    "# GPA_year\n",
    "df.groupby(['year','property']).apply(wavg, \"gpa\", \"credits\")"
   ]
  },
  {
   "cell_type": "markdown",
   "metadata": {},
   "source": [
    "### 2.3 数据合并\n",
    "\n",
    "pd.merge(left, right, how, on)\n",
    "- left, right 待合并的df\n",
    "- on 根据哪个字段进行合并\n",
    "- how 合并方式,默认使用的inner。how包括left、right、inner、outer\n",
    "![](img/merge.png)\n",
    "\n"
   ]
  },
  {
   "cell_type": "code",
   "execution_count": null,
   "metadata": {},
   "outputs": [],
   "source": [
    "adf = pd.DataFrame(\n",
    "    {'x1': ['A', 'B', 'C'],\n",
    "     'x2': [1, 2, 3]}\n",
    "                  )\n",
    "\n",
    "adf"
   ]
  },
  {
   "cell_type": "code",
   "execution_count": null,
   "metadata": {},
   "outputs": [],
   "source": [
    "bdf = pd.DataFrame(\n",
    "    {'x1': ['A', 'B', 'D'],\n",
    "     'x3': ['T', 'F', 'T']}\n",
    "                  )\n",
    "\n",
    "bdf"
   ]
  },
  {
   "cell_type": "code",
   "execution_count": null,
   "metadata": {},
   "outputs": [],
   "source": [
    "df1 = pd.merge(adf, bdf, how='left', on='x1')\n",
    "df1"
   ]
  },
  {
   "cell_type": "code",
   "execution_count": null,
   "metadata": {},
   "outputs": [],
   "source": [
    "df2 = pd.merge(adf, bdf, how='right', on='x1')\n",
    "df2"
   ]
  },
  {
   "cell_type": "code",
   "execution_count": null,
   "metadata": {},
   "outputs": [],
   "source": [
    "df3 = pd.merge(adf, bdf, how='inner', on='x1')\n",
    "df3"
   ]
  },
  {
   "cell_type": "code",
   "execution_count": null,
   "metadata": {},
   "outputs": [],
   "source": [
    "df4 = pd.merge(adf, bdf, how='outer', on='x1')\n",
    "df4"
   ]
  },
  {
   "cell_type": "markdown",
   "metadata": {},
   "source": [
    "**同构数据合并**\n",
    "\n",
    "\n",
    "字段相同的dataframe合并\n",
    "\n",
    "pd.concat([df1,df2])  将df1和df2合并"
   ]
  },
  {
   "cell_type": "code",
   "execution_count": null,
   "metadata": {},
   "outputs": [],
   "source": [
    "import pandas as pd\n",
    "\n",
    "df1 = pd.read_csv('data/auto-mpg1.csv')\n",
    "df1"
   ]
  },
  {
   "cell_type": "code",
   "execution_count": null,
   "metadata": {},
   "outputs": [],
   "source": [
    "df2 = pd.read_csv('data/auto-mpg2.csv')\n",
    "df2"
   ]
  },
  {
   "cell_type": "code",
   "execution_count": null,
   "metadata": {},
   "outputs": [],
   "source": [
    "df3 = pd.concat([df1, df2])\n",
    "df3"
   ]
  },
  {
   "cell_type": "markdown",
   "metadata": {},
   "source": [
    "### 2.4 DataFrame中有关时间变量的操作\n",
    " pd.to_datetime() 可将日期转化为datetime类型的数据，该函数可传入\n",
    "- 单个的日期\n",
    "- 也可以是日期序列"
   ]
  },
  {
   "cell_type": "code",
   "execution_count": null,
   "metadata": {},
   "outputs": [],
   "source": [
    "dates = ['2020.1.1', '2020 1.1', '2020 1 1', \n",
    "         '2020 1-1', '2020-1 1', '2020-1-1',\n",
    "         '2020/1/1', '1.1.2020', '1.1 2020',\n",
    "         '1 1 2020', '1 1-2020', '1-1 2020',\n",
    "         '1-1-2020', '1/1/2020', '20200101', '2020.0101']\n",
    "\n"
   ]
  },
  {
   "cell_type": "code",
   "execution_count": null,
   "metadata": {},
   "outputs": [],
   "source": [
    "pd.to_datetime('1.1.2020')"
   ]
  },
  {
   "cell_type": "code",
   "execution_count": null,
   "metadata": {},
   "outputs": [],
   "source": [
    "#需要将数据转化为datatime的类型\n",
    "pd.to_datetime(dates)"
   ]
  },
  {
   "cell_type": "markdown",
   "metadata": {},
   "source": [
    "### 提取出时间/日期的属性\n",
    "处理时间序列场景\n",
    "- 求某个日期对应的星期数(2020-05-04是第几周)\n",
    "- 判断一个星期是周几(2020-05-04是周几)\n",
    "- 判断某一日期是第几个季度(2020-05-04是第几个季度)\n",
    "\n",
    "当dataframe中的时间列(本数据中的Date列)已转为datetime类型数据，仅需调用 **.dt** 接口就可以提供常见的属性\n",
    "\n",
    "\n",
    "|.dt的属性|功能|\n",
    "|:---|:---|\n",
    "|year|年份|\n",
    "|month| 月份 |\n",
    "|day|日|\n",
    "|hour|时|\n",
    "|minute|分|\n",
    "|second|秒|\n",
    "|date|日期|\n",
    "|time|时间|\n",
    "|dayofyear|一年中的第几天|\n",
    "|weekday|一周中的第几天，0对应周一|\n",
    "|weekday_name|周几的名称，周一Monday|\n",
    "|quarter|处于第几个季度|\n",
    "\n",
    "这里重新导入数据，"
   ]
  },
  {
   "cell_type": "code",
   "execution_count": null,
   "metadata": {},
   "outputs": [],
   "source": [
    "import pandas as pd\n",
    "\n",
    "df = pd.read_csv('data/aapl.csv')\n",
    "df "
   ]
  },
  {
   "cell_type": "code",
   "execution_count": null,
   "metadata": {},
   "outputs": [],
   "source": [
    "#进行格式转换\n",
    "df['Date'] = pd.to_datetime(df['Date'])"
   ]
  },
  {
   "cell_type": "code",
   "execution_count": null,
   "metadata": {},
   "outputs": [],
   "source": [
    "df.dtypes"
   ]
  },
  {
   "cell_type": "code",
   "execution_count": null,
   "metadata": {},
   "outputs": [],
   "source": [
    "df['Date'].dt.dayofweek"
   ]
  },
  {
   "cell_type": "code",
   "execution_count": null,
   "metadata": {},
   "outputs": [],
   "source": [
    "#在原数据中添加月份信息\n",
    "df['month']=df['Date'].dt.month\n",
    "df"
   ]
  },
  {
   "cell_type": "code",
   "execution_count": null,
   "metadata": {},
   "outputs": [],
   "source": [
    "#原数据中添加月份名字\n",
    "df['monthname']=df['Date'].dt.month_name()\n",
    "df"
   ]
  },
  {
   "cell_type": "code",
   "execution_count": null,
   "metadata": {},
   "outputs": [],
   "source": [
    "#星期几\n",
    "df['dayname']=df['Date'].dt.day_name()\n",
    "df"
   ]
  },
  {
   "cell_type": "markdown",
   "metadata": {},
   "source": [
    "### 时间序列的索引\n",
    "时间序列索引和Pandas普通索引类似，\n",
    "\n",
    "大多数操作也可以使用 ``df.loc[index, columns]`` 选取数据,\n",
    "\n",
    "\n",
    "不过在使用df.loc之前需要先将**日期列设置为行索引**\n",
    "\n",
    "```\n",
    "df.set_index('Date', inplace=True)\n",
    "df.sort_index(inplace=True)\n",
    "```"
   ]
  },
  {
   "cell_type": "code",
   "execution_count": null,
   "metadata": {},
   "outputs": [],
   "source": [
    "df.set_index('Date', inplace=True)\n",
    "df.head()"
   ]
  },
  {
   "cell_type": "code",
   "execution_count": null,
   "metadata": {},
   "outputs": [],
   "source": [
    "df.loc[\"2016-07\":\"2017-05\"]"
   ]
  },
  {
   "cell_type": "code",
   "execution_count": null,
   "metadata": {},
   "outputs": [],
   "source": [
    "#选取某一年\n",
    "df.loc['2016',]"
   ]
  },
  {
   "cell_type": "code",
   "execution_count": null,
   "metadata": {},
   "outputs": [],
   "source": [
    "#选取某一年的某几列数据\n",
    "df.loc['2016',['High', 'Low']]"
   ]
  },
  {
   "cell_type": "code",
   "execution_count": null,
   "metadata": {},
   "outputs": [],
   "source": [
    "#选取某一年某一月的数据\n",
    "df.loc['2017-01', ]"
   ]
  },
  {
   "cell_type": "code",
   "execution_count": null,
   "metadata": {},
   "outputs": [],
   "source": [
    "#选取某一天的数据\n",
    "df.loc['2017-01-20', :]"
   ]
  },
  {
   "cell_type": "code",
   "execution_count": null,
   "metadata": {},
   "outputs": [],
   "source": [
    "#选取某一时间区间\n",
    "df.loc['2016-07':'2017-05', : ] #使用之前需要sort_index() inplace=True"
   ]
  },
  {
   "cell_type": "markdown",
   "metadata": {},
   "source": [
    "### date_range方法\n",
    "pd.date_range(start, end, periods, freq)\n",
    "- start: 开始日期字符串，如'2020-04-05'\n",
    "- end: 结束日期字符串，如'2020-07-05'\n",
    "- periods: 生成的时间点个数\n",
    "- freq: 日期间隔\n",
    "\n",
    "一般给定三个参数就能生成一段日期序列\n",
    "\n",
    "\n",
    "符号 | D/B | W | M/Q/Y | BM/BQ/BY | MS/QS/YS | BMS/BQS/BYS | H | T | S\n",
    ":-:|:-:|:-:|:-:|:-:|:-:|:-:|:-:|:-:|:-:\n",
    "描述 | 日/工作日 | 周 | 月末 | 月/季/年末日 | 月/季/年末工作日 | 月/季/年初日 | 月/季/年初工作日 | 小时 | 分钟 |秒"
   ]
  },
  {
   "cell_type": "code",
   "execution_count": null,
   "metadata": {},
   "outputs": [],
   "source": [
    "#生成2020-04-05至2020-07-05之间的日期序列，每隔10天有一个日期\n",
    "\n",
    "import pandas as pd\n",
    "\n",
    "dates = pd.date_range(start='2020-04-05',\n",
    "                      end='2020-07-05',\n",
    "                      periods=10)#等分成十份\n",
    "dates"
   ]
  },
  {
   "cell_type": "code",
   "execution_count": null,
   "metadata": {},
   "outputs": [],
   "source": [
    "#生成2020-04-05至2020-07-05之间的日期序列，每隔10天有一个日期\n",
    "\n",
    "\n",
    "dates2= pd.date_range(start='2020-04-05',\n",
    "                      end='2020-07-05',\n",
    "                      freq='10D')\n",
    "dates2"
   ]
  },
  {
   "cell_type": "markdown",
   "metadata": {},
   "source": [
    "### 重采样resample\n",
    "\n",
    "``resample is a time-based groupby``\n",
    "\n",
    "重采样就是基于时间的groupby操作，包括\n",
    "\n",
    "- 降采样\n",
    "- 升采样\n",
    "\n",
    "### 降采样\n",
    "课程中准备的aapl.csv是**日级数据**，如果想寻求**每季度**的平均收盘价，应该怎么操作？\n",
    "\n",
    "从**日级**到**季度级别**，是**高频**到**低频**的**聚合操作**，其实就类似于groupby按照季度进行操作，用resample来写"
   ]
  },
  {
   "cell_type": "code",
   "execution_count": null,
   "metadata": {},
   "outputs": [],
   "source": [
    "#每月成交量的均值\n",
    "\n",
    "df.resample('M', on='Date').mean()"
   ]
  },
  {
   "cell_type": "code",
   "execution_count": null,
   "metadata": {},
   "outputs": [],
   "source": [
    "#每周(工作日)收盘价的均值\n",
    "\n",
    "df.resample('5B', on='Date')['Close'].mean()"
   ]
  },
  {
   "cell_type": "code",
   "execution_count": null,
   "metadata": {},
   "outputs": [],
   "source": []
  },
  {
   "cell_type": "markdown",
   "metadata": {},
   "source": [
    "## 相关学习资料\n",
    "\n",
    "\n",
    "https://pandas.pydata.org/pandas-docs/version/0.22.0/10min.html"
   ]
  },
  {
   "cell_type": "code",
   "execution_count": null,
   "metadata": {},
   "outputs": [],
   "source": []
  }
 ],
 "metadata": {
  "kernelspec": {
   "display_name": "Python 3 (ipykernel)",
   "language": "python",
   "name": "python3"
  },
  "language_info": {
   "codemirror_mode": {
    "name": "ipython",
    "version": 3
   },
   "file_extension": ".py",
   "mimetype": "text/x-python",
   "name": "python",
   "nbconvert_exporter": "python",
   "pygments_lexer": "ipython3",
   "version": "3.9.12"
  }
 },
 "nbformat": 4,
 "nbformat_minor": 2
}
