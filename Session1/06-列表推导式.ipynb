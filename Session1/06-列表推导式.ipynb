{
 "cells": [
  {
   "cell_type": "markdown",
   "metadata": {},
   "source": [
    "\n",
    "## 问题1 用列表表示集合X\n",
    "\n",
    "$X= \\{x| x \\in [1,2,3,4,5,6,7,8,9,10]\\}$"
   ]
  },
  {
   "cell_type": "code",
   "execution_count": 2,
   "metadata": {},
   "outputs": [
    {
     "data": {
      "text/plain": [
       "[1, 2, 3, 4, 5, 6, 7, 8, 9, 10]"
      ]
     },
     "execution_count": 2,
     "metadata": {},
     "output_type": "execute_result"
    }
   ],
   "source": [
    "X = [1,2,3,4,5,6,7,8,9,10]\n",
    "X"
   ]
  },
  {
   "cell_type": "code",
   "execution_count": 3,
   "metadata": {},
   "outputs": [
    {
     "data": {
      "text/plain": [
       "[1, 2, 3, 4, 5, 6, 7, 8, 9]"
      ]
     },
     "execution_count": 3,
     "metadata": {},
     "output_type": "execute_result"
    }
   ],
   "source": [
    "X = list(range(1, 10))\n",
    "X"
   ]
  },
  {
   "cell_type": "markdown",
   "metadata": {},
   "source": [
    "\n",
    "## 问题2 表示集合Y\n",
    "$Y = \\{x^2| x \\in [1,2,3,4,5,6,7,8,9,10]\\}$"
   ]
  },
  {
   "cell_type": "code",
   "execution_count": 4,
   "metadata": {},
   "outputs": [
    {
     "data": {
      "text/plain": [
       "[1, 4, 9, 16, 25, 36, 49, 64, 81]"
      ]
     },
     "execution_count": 4,
     "metadata": {},
     "output_type": "execute_result"
    }
   ],
   "source": [
    "Y = []\n",
    "\n",
    "for x in X:\n",
    "    Y.append(x*x)\n",
    "    \n",
    "Y"
   ]
  },
  {
   "cell_type": "code",
   "execution_count": null,
   "metadata": {},
   "outputs": [],
   "source": []
  },
  {
   "cell_type": "markdown",
   "metadata": {},
   "source": [
    "# 列表推导式\n",
    "\n",
    "实现步骤\n",
    "1. 先复制X\n",
    "2. 再对X中的元素x进行操作"
   ]
  },
  {
   "cell_type": "code",
   "execution_count": 5,
   "metadata": {},
   "outputs": [
    {
     "data": {
      "text/plain": [
       "[1, 2, 3, 4, 5, 6, 7, 8, 9]"
      ]
     },
     "execution_count": 5,
     "metadata": {},
     "output_type": "execute_result"
    }
   ],
   "source": [
    "#先复制X\n",
    "[x for x in X]"
   ]
  },
  {
   "cell_type": "code",
   "execution_count": 6,
   "metadata": {},
   "outputs": [
    {
     "data": {
      "text/plain": [
       "[1, 4, 9, 16, 25, 36, 49, 64, 81]"
      ]
     },
     "execution_count": 6,
     "metadata": {},
     "output_type": "execute_result"
    }
   ],
   "source": [
    "#再对x进行操作\n",
    "[x*x for x in X]"
   ]
  },
  {
   "cell_type": "markdown",
   "metadata": {},
   "source": [
    "## 理解列表推导式\n",
    "\n",
    "![](img/列表推导式理解.JPG)"
   ]
  },
  {
   "cell_type": "markdown",
   "metadata": {},
   "source": [
    "## 带条件的列表推导式\n",
    "$C= \\{x^2 | (x \\in X) \\cap (x>5)\\}$"
   ]
  },
  {
   "cell_type": "code",
   "execution_count": 7,
   "metadata": {},
   "outputs": [
    {
     "data": {
      "text/plain": [
       "[1, 2, 3, 4, 5, 6, 7, 8, 9, 10]"
      ]
     },
     "execution_count": 7,
     "metadata": {},
     "output_type": "execute_result"
    }
   ],
   "source": [
    "#复制X\n",
    "Z=[x\n",
    " for x in X]\n"
   ]
  },
  {
   "cell_type": "code",
   "execution_count": null,
   "metadata": {},
   "outputs": [],
   "source": []
  },
  {
   "cell_type": "code",
   "execution_count": 10,
   "metadata": {},
   "outputs": [
    {
     "data": {
      "text/plain": [
       "[6, 7, 8, 9]"
      ]
     },
     "execution_count": 10,
     "metadata": {},
     "output_type": "execute_result"
    }
   ],
   "source": [
    "#X中的要大于5\n",
    "#[x for x in X if x>5]\n",
    "\n",
    "\n",
    "[x \n",
    " for x in X \n",
    " if x>5]\n",
    "\n"
   ]
  },
  {
   "cell_type": "code",
   "execution_count": 11,
   "metadata": {},
   "outputs": [
    {
     "data": {
      "text/plain": [
       "[36, 49, 64, 81]"
      ]
     },
     "execution_count": 11,
     "metadata": {},
     "output_type": "execute_result"
    }
   ],
   "source": [
    "#对满足条件的x进行操作\n",
    "#[x*x for x in X if x>5]\n",
    "\n",
    "[x*x \n",
    " for x in X \n",
    " if x>5]"
   ]
  },
  {
   "cell_type": "markdown",
   "metadata": {},
   "source": [
    "## 问题3 全部小写"
   ]
  },
  {
   "cell_type": "code",
   "execution_count": 18,
   "metadata": {
    "scrolled": true
   },
   "outputs": [
    {
     "data": {
      "text/plain": [
       "['Life',\n",
       " 'is',\n",
       " 'short',\n",
       " 'so',\n",
       " 'we',\n",
       " 'use',\n",
       " 'Python',\n",
       " 'python',\n",
       " 'is',\n",
       " 'easy',\n",
       " 'to',\n",
       " 'learn',\n",
       " 'and',\n",
       " 'easy',\n",
       " 'to',\n",
       " 'use']"
      ]
     },
     "execution_count": 18,
     "metadata": {},
     "output_type": "execute_result"
    }
   ],
   "source": [
    "words = ['Life', 'is', 'short', 'so', 'we', 'use', 'Python', 'python', \n",
    "         'is', 'easy', 'to', 'learn', 'and', 'easy', 'to', 'use']\n",
    "words"
   ]
  },
  {
   "cell_type": "code",
   "execution_count": 30,
   "metadata": {},
   "outputs": [
    {
     "data": {
      "text/plain": [
       "['life',\n",
       " 'is',\n",
       " 'short',\n",
       " 'so',\n",
       " 'we',\n",
       " 'use',\n",
       " 'python',\n",
       " 'python',\n",
       " 'is',\n",
       " 'easy',\n",
       " 'to',\n",
       " 'learn',\n",
       " 'and',\n",
       " 'easy',\n",
       " 'to',\n",
       " 'use']"
      ]
     },
     "execution_count": 30,
     "metadata": {},
     "output_type": "execute_result"
    }
   ],
   "source": [
    "lower_words = [w.lower() for w in words]\n",
    "lower_words"
   ]
  },
  {
   "cell_type": "code",
   "execution_count": 31,
   "metadata": {},
   "outputs": [
    {
     "data": {
      "text/plain": [
       "{'and',\n",
       " 'easy',\n",
       " 'is',\n",
       " 'learn',\n",
       " 'life',\n",
       " 'python',\n",
       " 'short',\n",
       " 'so',\n",
       " 'to',\n",
       " 'use',\n",
       " 'we'}"
      ]
     },
     "execution_count": 31,
     "metadata": {},
     "output_type": "execute_result"
    }
   ],
   "source": [
    "wordset = set(lower_words)\n",
    "wordset"
   ]
  },
  {
   "cell_type": "code",
   "execution_count": 33,
   "metadata": {},
   "outputs": [
    {
     "data": {
      "text/plain": [
       "[('and', 1),\n",
       " ('is', 2),\n",
       " ('we', 1),\n",
       " ('learn', 1),\n",
       " ('easy', 2),\n",
       " ('to', 2),\n",
       " ('short', 1),\n",
       " ('use', 2),\n",
       " ('python', 2),\n",
       " ('life', 1),\n",
       " ('so', 1)]"
      ]
     },
     "execution_count": 33,
     "metadata": {},
     "output_type": "execute_result"
    }
   ],
   "source": [
    "word_count_list = [(w, lower_words.count(w)) for w in wordset]\n",
    "word_count_list"
   ]
  },
  {
   "cell_type": "markdown",
   "metadata": {},
   "source": [
    "## 问题4 计算lower_words列表数据的单词词频"
   ]
  },
  {
   "cell_type": "code",
   "execution_count": 21,
   "metadata": {},
   "outputs": [
    {
     "data": {
      "text/plain": [
       "[('so', 1),\n",
       " ('and', 1),\n",
       " ('learn', 1),\n",
       " ('use', 2),\n",
       " ('to', 2),\n",
       " ('we', 1),\n",
       " ('easy', 2),\n",
       " ('python', 2),\n",
       " ('is', 2),\n",
       " ('short', 1),\n",
       " ('life', 1)]"
      ]
     },
     "execution_count": 21,
     "metadata": {},
     "output_type": "execute_result"
    }
   ],
   "source": [
    "wordset = set(lower_words)\n",
    "[(w, lower_words.count(w)) for w in wordset]"
   ]
  },
  {
   "cell_type": "code",
   "execution_count": 22,
   "metadata": {
    "collapsed": true
   },
   "outputs": [
    {
     "name": "stdout",
     "output_type": "stream",
     "text": [
      "{'so', 'and', 'learn', 'use', 'to', 'we', 'easy', 'python', 'is', 'short', 'life'}\n"
     ]
    }
   ],
   "source": [
    "#1 生产词语集合\n",
    "wordset = set(lower_words)\n",
    "print(wordset)"
   ]
  },
  {
   "cell_type": "code",
   "execution_count": null,
   "metadata": {},
   "outputs": [],
   "source": [
    "#2. wordset复制wordset自己\n",
    "[w for w in wordset]"
   ]
  },
  {
   "cell_type": "code",
   "execution_count": 23,
   "metadata": {
    "scrolled": true
   },
   "outputs": [
    {
     "data": {
      "text/plain": [
       "[1, 1, 1, 2, 2, 1, 2, 2, 2, 1, 1]"
      ]
     },
     "execution_count": 23,
     "metadata": {},
     "output_type": "execute_result"
    }
   ],
   "source": []
  },
  {
   "cell_type": "code",
   "execution_count": 24,
   "metadata": {
    "collapsed": true
   },
   "outputs": [
    {
     "data": {
      "text/plain": [
       "[('so', 1),\n",
       " ('and', 1),\n",
       " ('learn', 1),\n",
       " ('use', 2),\n",
       " ('to', 2),\n",
       " ('we', 1),\n",
       " ('easy', 2),\n",
       " ('python', 2),\n",
       " ('is', 2),\n",
       " ('short', 1),\n",
       " ('life', 1)]"
      ]
     },
     "execution_count": 24,
     "metadata": {},
     "output_type": "execute_result"
    }
   ],
   "source": [
    "#3. 词频和词语一起显示\n",
    "[(w,lower_words.count(w)) for w in wordset]"
   ]
  }
 ],
 "metadata": {
  "kernelspec": {
   "display_name": "Python 3 (ipykernel)",
   "language": "python",
   "name": "python3"
  },
  "language_info": {
   "codemirror_mode": {
    "name": "ipython",
    "version": 3
   },
   "file_extension": ".py",
   "mimetype": "text/x-python",
   "name": "python",
   "nbconvert_exporter": "python",
   "pygments_lexer": "ipython3",
   "version": "3.10.13"
  }
 },
 "nbformat": 4,
 "nbformat_minor": 4
}
