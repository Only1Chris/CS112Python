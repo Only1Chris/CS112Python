{
 "cells": [
  {
   "cell_type": "markdown",
   "metadata": {},
   "source": [
    "# if条件判断\n",
    "![](img/if图.png)\n",
    "\n",
    "## condition为布尔值、布尔运算、成员运算符\n",
    "通常我们理解的condition为布尔值"
   ]
  },
  {
   "cell_type": "code",
   "execution_count": 1,
   "metadata": {},
   "outputs": [
    {
     "name": "stdout",
     "output_type": "stream",
     "text": [
      "condition为True\n"
     ]
    }
   ],
   "source": [
    "#Tab\n",
    "condition = True\n",
    "\n",
    "if condition:\n",
    "    print('condition为True')\n",
    "else:\n",
    "    print('condition为False')"
   ]
  },
  {
   "cell_type": "code",
   "execution_count": 1,
   "metadata": {},
   "outputs": [
    {
     "name": "stdout",
     "output_type": "stream",
     "text": [
      "你是成年人了\n"
     ]
    }
   ],
   "source": [
    "age = 20\n",
    "\n",
    "if age>=18:\n",
    "    print('你是成年人了')\n",
    "else:\n",
    "    print('你还是个孩子')"
   ]
  },
  {
   "cell_type": "markdown",
   "metadata": {},
   "source": [
    "### 练习\n",
    "- 大于60岁，老年人\n",
    "- 40到60岁，中年人\n",
    "- 到40岁，青年人\n",
    "- 低于18岁，儿童\n",
    "\n"
   ]
  },
  {
   "cell_type": "code",
   "execution_count": null,
   "metadata": {},
   "outputs": [],
   "source": []
  },
  {
   "cell_type": "markdown",
   "metadata": {},
   "source": [
    "## 特殊的conditon\n",
    "- 各种空值(空字符串、空列表等)作用等同于False\n",
    "- 各种非空值，作用等同于True"
   ]
  },
  {
   "cell_type": "code",
   "execution_count": 8,
   "metadata": {},
   "outputs": [
    {
     "name": "stdout",
     "output_type": "stream",
     "text": [
      "a是空数据\n"
     ]
    }
   ],
   "source": [
    "a = None\n",
    "\n",
    "if a:\n",
    "    print('a是非空数据')\n",
    "else:\n",
    "    print('a是空数据')"
   ]
  },
  {
   "cell_type": "code",
   "execution_count": null,
   "metadata": {},
   "outputs": [],
   "source": []
  },
  {
   "cell_type": "markdown",
   "metadata": {},
   "source": [
    "# for循环\n",
    "- 重复做某件事\n",
    "- 迭代出数据中的内容(元素)\n",
    "![](img/for循环.png)"
   ]
  },
  {
   "cell_type": "markdown",
   "metadata": {},
   "source": [
    "### 上面这个图可以解读为\n",
    "\n",
    "我们想对iterable这个集合中的每一个item:\n",
    "    \n",
    "    做点事(对item做操作)"
   ]
  },
  {
   "cell_type": "markdown",
   "metadata": {
    "solution2": "hidden",
    "solution2_first": true
   },
   "source": [
    "## 重复做某事\n",
    "\n",
    "### 问题1\n",
    "计算1+2+3+...+97+98+99+100=?"
   ]
  },
  {
   "cell_type": "markdown",
   "metadata": {
    "collapsed": true,
    "solution2": "hidden"
   },
   "source": [
    "1 + 2 = 3\n",
    "3 + 3 = 6\n",
    "6 + 4 = 10\n",
    "10 + 5 = 15\n"
   ]
  },
  {
   "cell_type": "code",
   "execution_count": 2,
   "metadata": {},
   "outputs": [
    {
     "name": "stdout",
     "output_type": "stream",
     "text": [
      "5050\n"
     ]
    }
   ],
   "source": [
    "result = 0\n",
    "\n",
    "#int\n",
    "for i in range(1, 101):\n",
    "    result = result + i\n",
    "    \n",
    "print(result)"
   ]
  },
  {
   "cell_type": "markdown",
   "metadata": {},
   "source": [
    "## 迭代出数据中的内容"
   ]
  },
  {
   "cell_type": "code",
   "execution_count": 10,
   "metadata": {},
   "outputs": [
    {
     "name": "stdout",
     "output_type": "stream",
     "text": [
      "David\n",
      "Henry\n",
      "Mary\n"
     ]
    }
   ],
   "source": [
    "names = ['David', 'Henry', 'Mary']\n",
    "\n",
    "for name in names:\n",
    "    print(name)"
   ]
  },
  {
   "cell_type": "code",
   "execution_count": 11,
   "metadata": {},
   "outputs": [
    {
     "name": "stdout",
     "output_type": "stream",
     "text": [
      "D\n",
      "a\n",
      "v\n",
      "i\n",
      "d\n"
     ]
    }
   ],
   "source": [
    "name = 'David'\n",
    "\n",
    "for s in name:\n",
    "    print(s)"
   ]
  },
  {
   "cell_type": "code",
   "execution_count": 7,
   "metadata": {},
   "outputs": [
    {
     "name": "stdout",
     "output_type": "stream",
     "text": [
      "('David', {'age': 25, 'gender': 'Male'})\n",
      "('Mary', {'age': 23, 'gender': 'Female'})\n",
      "('Henry', {'age': 23, 'gender': 'Male'})\n"
     ]
    }
   ],
   "source": [
    "infos =  {'David':{'age':25, \n",
    "                   'gender':'Male'},\n",
    "          'Mary':{'age':23,\n",
    "                  'gender': 'Female'},\n",
    "          'Henry':{'age':23,\n",
    "                  'gender': 'Male'}\n",
    "         }\n",
    "\n",
    "for item in infos.items():\n",
    "    print(item)"
   ]
  },
  {
   "cell_type": "code",
   "execution_count": 8,
   "metadata": {},
   "outputs": [
    {
     "name": "stdout",
     "output_type": "stream",
     "text": [
      "David {'age': 25, 'gender': 'Male'}\n",
      "Mary {'age': 23, 'gender': 'Female'}\n",
      "Henry {'age': 23, 'gender': 'Male'}\n"
     ]
    }
   ],
   "source": [
    "for name, info in infos.items():\n",
    "    print(name, info)"
   ]
  },
  {
   "cell_type": "code",
   "execution_count": null,
   "metadata": {},
   "outputs": [],
   "source": []
  },
  {
   "cell_type": "markdown",
   "metadata": {},
   "source": [
    "\n"
   ]
  },
  {
   "attachments": {},
   "cell_type": "markdown",
   "metadata": {},
   "source": [
    "# try-except\n",
    "\n",
    "- 异常处理确保程序的流程在发生异常时不会中断"
   ]
  },
  {
   "cell_type": "code",
   "execution_count": 19,
   "metadata": {},
   "outputs": [
    {
     "name": "stdout",
     "output_type": "stream",
     "text": [
      "10.0\n",
      "5.0\n"
     ]
    },
    {
     "ename": "ZeroDivisionError",
     "evalue": "division by zero",
     "output_type": "error",
     "traceback": [
      "\u001b[1;31m---------------------------------------------------------------------------\u001b[0m",
      "\u001b[1;31mZeroDivisionError\u001b[0m                         Traceback (most recent call last)",
      "\u001b[1;32m<ipython-input-19-83bea9c92c0e>\u001b[0m in \u001b[0;36m<module>\u001b[1;34m\u001b[0m\n\u001b[0;32m      1\u001b[0m \u001b[1;32mfor\u001b[0m \u001b[0mx\u001b[0m \u001b[1;32min\u001b[0m \u001b[1;33m[\u001b[0m\u001b[1;36m1\u001b[0m\u001b[1;33m,\u001b[0m\u001b[1;36m2\u001b[0m\u001b[1;33m,\u001b[0m\u001b[1;36m0\u001b[0m\u001b[1;33m,\u001b[0m\u001b[1;36m2\u001b[0m\u001b[1;33m,\u001b[0m\u001b[1;36m1\u001b[0m\u001b[1;33m]\u001b[0m\u001b[1;33m:\u001b[0m\u001b[1;33m\u001b[0m\u001b[1;33m\u001b[0m\u001b[0m\n\u001b[1;32m----> 2\u001b[1;33m     \u001b[0mprint\u001b[0m\u001b[1;33m(\u001b[0m\u001b[1;36m10\u001b[0m\u001b[1;33m/\u001b[0m\u001b[0mx\u001b[0m\u001b[1;33m)\u001b[0m\u001b[1;33m\u001b[0m\u001b[1;33m\u001b[0m\u001b[0m\n\u001b[0m",
      "\u001b[1;31mZeroDivisionError\u001b[0m: division by zero"
     ]
    }
   ],
   "source": [
    "for x in [1,2,0,2,1]:\n",
    "    print(10/x)"
   ]
  },
  {
   "cell_type": "code",
   "execution_count": 21,
   "metadata": {},
   "outputs": [
    {
     "name": "stdout",
     "output_type": "stream",
     "text": [
      "10.0\n",
      "5.0\n",
      "0除错误\n",
      "5.0\n",
      "10.0\n"
     ]
    }
   ],
   "source": [
    "for x in [1,2,0,2,1]:\n",
    "    try:\n",
    "        print(10/x)\n",
    "    except:\n",
    "        print('0除错误')\n",
    "        #pass"
   ]
  },
  {
   "cell_type": "markdown",
   "metadata": {
    "solution2": "hidden",
    "solution2_first": true
   },
   "source": [
    "## 练习\n",
    "\n",
    "1. 用for 循环输出0-100的奇数\n",
    "\n",
    "2. 假设现在某人的能力为1， 每天比前一天进步0.01， 一年后他的能力是多少？"
   ]
  },
  {
   "cell_type": "markdown",
   "metadata": {
    "solution2": "hidden",
    "solution2_first": true
   },
   "source": []
  }
 ],
 "metadata": {
  "kernelspec": {
   "display_name": "Python 3 (ipykernel)",
   "language": "python",
   "name": "python3"
  },
  "language_info": {
   "codemirror_mode": {
    "name": "ipython",
    "version": 3
   },
   "file_extension": ".py",
   "mimetype": "text/x-python",
   "name": "python",
   "nbconvert_exporter": "python",
   "pygments_lexer": "ipython3",
   "version": "3.10.13"
  },
  "toc": {
   "base_numbering": 1,
   "nav_menu": {},
   "number_sections": false,
   "sideBar": true,
   "skip_h1_title": false,
   "title_cell": "Table of Contents",
   "title_sidebar": "Contents",
   "toc_cell": false,
   "toc_position": {},
   "toc_section_display": true,
   "toc_window_display": true
  },
  "varInspector": {
   "cols": {
    "lenName": 16,
    "lenType": 16,
    "lenVar": 40
   },
   "kernels_config": {
    "python": {
     "delete_cmd_postfix": "",
     "delete_cmd_prefix": "del ",
     "library": "var_list.py",
     "varRefreshCmd": "print(var_dic_list())"
    },
    "r": {
     "delete_cmd_postfix": ") ",
     "delete_cmd_prefix": "rm(",
     "library": "var_list.r",
     "varRefreshCmd": "cat(var_dic_list()) "
    }
   },
   "types_to_exclude": [
    "module",
    "function",
    "builtin_function_or_method",
    "instance",
    "_Feature"
   ],
   "window_display": false
  }
 },
 "nbformat": 4,
 "nbformat_minor": 4
}
