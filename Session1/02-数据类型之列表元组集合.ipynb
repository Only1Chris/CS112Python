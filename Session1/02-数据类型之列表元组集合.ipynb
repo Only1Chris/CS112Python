{
 "cells": [
  {
   "cell_type": "markdown",
   "metadata": {},
   "source": [
    "# 列表list\n",
    "\n",
    "- 定义\n",
    "- 拼接\n",
    "  - ``+`` ``*`` ``in``, ``not in``, ``len()``\n",
    "- 切片\n",
    "- 拆包\n",
    "- 索引\n",
    "- 排序\n",
    "- 统计（聚合）\n",
    "- “增删插改”\n",
    "\n",
    "## 定义\n",
    "\n",
    "list是一种有序的集合,内部可以由任何数据类型的组成的\n",
    "\n",
    "现在有5位员工的汇总信息，\n",
    "\n",
    "|id|姓名|年龄|性别|爱好|\n",
    "|:---|:---|:---|:---|:---|\n",
    "|1|David|25|Male|Basketball, Pingpang, Hiking|\n",
    "|2|Mary|23|Female|Reading, Movies|\n",
    "|3|Henry|23|Male|Diving, Hiking|\n",
    "|4|Swift|21|Male|Football, Music|\n",
    "|5|Lenard|26|Male|Stay at Home|"
   ]
  },
  {
   "cell_type": "code",
   "execution_count": 12,
   "metadata": {},
   "outputs": [
    {
     "name": "stdout",
     "output_type": "stream",
     "text": [
      "<class 'list'>\n",
      "<class 'list'>\n",
      "<class 'list'>\n",
      "['David', 'Mary', 'Henry', 'Swift', 'Lenard']\n",
      "[25, 23, 23, 21, 26]\n",
      "[['Basketball', 'Pingpang', 'Hiking'], ['Reading', 'Movies'], ['Diving', 'Hiking'], ['Football', 'Music'], ['Stay at Home']]\n"
     ]
    }
   ],
   "source": [
    "names = ['David', 'Mary', 'Henry', 'Swift', 'Lenard']\n",
    "\n",
    "ages = [25, 23, 23, 21, 26]\n",
    "\n",
    "hobbies = [['Basketball', 'Pingpang', 'Hiking'],\n",
    "          ['Reading', 'Movies'],\n",
    "          ['Diving', 'Hiking'],\n",
    "          ['Football', 'Music'],\n",
    "          ['Stay at Home']]\n",
    "\n",
    "print(type(names))\n",
    "print(type(ages))\n",
    "print(type(hobbies))\n",
    "\n",
    "print(names)\n",
    "print(ages)\n",
    "print(hobbies)"
   ]
  },
  {
   "cell_type": "markdown",
   "metadata": {},
   "source": [
    "## 拼接"
   ]
  },
  {
   "cell_type": "code",
   "execution_count": 13,
   "metadata": {},
   "outputs": [
    {
     "name": "stdout",
     "output_type": "stream",
     "text": [
      "['Michael', 'Bob', 'David', 'Lee']\n",
      "['David', 'Lee', 'Michael', 'Bob']\n"
     ]
    }
   ],
   "source": [
    "a1 = ['Michael', 'Bob']\n",
    "a2 = ['David', 'Lee']\n",
    "\n",
    "print(a1 + a2)\n",
    "print(a2 + a1)"
   ]
  },
  {
   "cell_type": "code",
   "execution_count": 43,
   "metadata": {},
   "outputs": [
    {
     "name": "stdout",
     "output_type": "stream",
     "text": [
      "['Michael', 'Bob', 'Michael', 'Bob', 'Michael', 'Bob', 'Michael', 'Bob', 'Michael', 'Bob']\n"
     ]
    }
   ],
   "source": [
    "print(a1*5)"
   ]
  },
  {
   "cell_type": "code",
   "execution_count": 44,
   "metadata": {},
   "outputs": [
    {
     "data": {
      "text/plain": [
       "True"
      ]
     },
     "execution_count": 44,
     "metadata": {},
     "output_type": "execute_result"
    }
   ],
   "source": [
    "'Michael' in a1"
   ]
  },
  {
   "cell_type": "code",
   "execution_count": 45,
   "metadata": {},
   "outputs": [
    {
     "data": {
      "text/plain": [
       "True"
      ]
     },
     "execution_count": 45,
     "metadata": {},
     "output_type": "execute_result"
    }
   ],
   "source": [
    "'Tom' not in a1"
   ]
  },
  {
   "cell_type": "code",
   "execution_count": 46,
   "metadata": {},
   "outputs": [
    {
     "data": {
      "text/plain": [
       "2"
      ]
     },
     "execution_count": 46,
     "metadata": {},
     "output_type": "execute_result"
    }
   ],
   "source": [
    "len(a2)"
   ]
  },
  {
   "cell_type": "markdown",
   "metadata": {},
   "source": [
    "## 拆包\n",
    "等号两边长度相同"
   ]
  },
  {
   "cell_type": "code",
   "execution_count": 14,
   "metadata": {},
   "outputs": [
    {
     "name": "stdout",
     "output_type": "stream",
     "text": [
      "David\n",
      "25\n"
     ]
    }
   ],
   "source": [
    "name, age = ['David', 25]\n",
    "print(name)\n",
    "print(age)"
   ]
  },
  {
   "cell_type": "markdown",
   "metadata": {},
   "source": [
    "## 切片\n",
    "列表的切片与字符串类似\n",
    "\n",
    "|id|姓名|年龄|性别|爱好|正索引|倒索引|\n",
    "|:---|:---|:---|:---|:---|:---|:---|\n",
    "|1|David|25|Male|Basketball, Pingpang, Hiking|0|-5|\n",
    "|2|Mary|23|Female|Reading, Movies|1|-4|\n",
    "|3|Henry|23|Male|Diving, Hiking|2|-3|\n",
    "|4|Swift|21|Male|Football, Music|3|-2|\n",
    "|5|Lenard|26|Male|Stay at Home|4|-1|"
   ]
  },
  {
   "cell_type": "code",
   "execution_count": 15,
   "metadata": {},
   "outputs": [
    {
     "data": {
      "text/plain": [
       "['David', 'Mary', 'Henry', 'Swift', 'Lenard']"
      ]
     },
     "execution_count": 15,
     "metadata": {},
     "output_type": "execute_result"
    }
   ],
   "source": [
    "names = ['David', 'Mary', 'Henry', 'Swift', 'Lenard']\n",
    "names"
   ]
  },
  {
   "cell_type": "code",
   "execution_count": 16,
   "metadata": {},
   "outputs": [
    {
     "name": "stdout",
     "output_type": "stream",
     "text": [
      "Henry\n",
      "Henry\n"
     ]
    }
   ],
   "source": [
    "print(names[2])\n",
    "print(names[-3])"
   ]
  },
  {
   "cell_type": "code",
   "execution_count": 17,
   "metadata": {},
   "outputs": [
    {
     "name": "stdout",
     "output_type": "stream",
     "text": [
      "['David', 'Mary', 'Henry']\n",
      "['David', 'Mary', 'Henry']\n"
     ]
    }
   ],
   "source": [
    "print(names[0:3])\n",
    "print(names[-5:-2])"
   ]
  },
  {
   "cell_type": "code",
   "execution_count": 18,
   "metadata": {},
   "outputs": [
    {
     "name": "stdout",
     "output_type": "stream",
     "text": [
      "['Henry', 'Swift', 'Lenard']\n",
      "['Henry', 'Swift', 'Lenard']\n"
     ]
    }
   ],
   "source": [
    "print(names[2:])\n",
    "print(names[-3:])"
   ]
  },
  {
   "cell_type": "code",
   "execution_count": 19,
   "metadata": {},
   "outputs": [
    {
     "name": "stdout",
     "output_type": "stream",
     "text": [
      "['David', 'Mary']\n",
      "['David', 'Mary']\n"
     ]
    }
   ],
   "source": [
    "print(names[:2])\n",
    "print(names[:-3])"
   ]
  },
  {
   "cell_type": "code",
   "execution_count": 47,
   "metadata": {},
   "outputs": [
    {
     "data": {
      "text/plain": [
       "['David', 'Mary', 'Henry', 'Swift', 'Lenard', 'Mary']"
      ]
     },
     "execution_count": 47,
     "metadata": {},
     "output_type": "execute_result"
    }
   ],
   "source": [
    "names[:]"
   ]
  },
  {
   "cell_type": "code",
   "execution_count": 49,
   "metadata": {},
   "outputs": [
    {
     "data": {
      "text/plain": [
       "['David', 'Henry', 'Lenard']"
      ]
     },
     "execution_count": 49,
     "metadata": {},
     "output_type": "execute_result"
    }
   ],
   "source": [
    "names[0:5:2]"
   ]
  },
  {
   "cell_type": "markdown",
   "metadata": {},
   "source": []
  },
  {
   "cell_type": "markdown",
   "metadata": {},
   "source": [
    "## 列表常用方法\n",
    "\n",
    "### 排序\n",
    "|常用方法|功能|\n",
    "|:---|:---|\n",
    "|list.index()|returns the index for the given item from the start of the list!|\n",
    "|list.copy|复制list|\n",
    "|list.sort( )|将列表中的元素正向排列|\n",
    "|sorted( list )|返回一份排序好的列表copy|\n",
    "|list.reverse( )|将列表中的元素反向排列|\n",
    "\n",
    "\n",
    "\n",
    "\n"
   ]
  },
  {
   "cell_type": "code",
   "execution_count": 50,
   "metadata": {},
   "outputs": [
    {
     "data": {
      "text/plain": [
       "1"
      ]
     },
     "execution_count": 50,
     "metadata": {},
     "output_type": "execute_result"
    }
   ],
   "source": [
    "list_1 = [1, 5, 2, 3, 1]\n",
    "list_1.index(5)"
   ]
  },
  {
   "cell_type": "code",
   "execution_count": 51,
   "metadata": {},
   "outputs": [
    {
     "name": "stdout",
     "output_type": "stream",
     "text": [
      "[1, 5, 2, 3, 1]\n",
      "[1, 6, 2, 3, 1]\n"
     ]
    }
   ],
   "source": [
    "list_2 = list_1.copy()\n",
    "list_2[1] = 6\n",
    "print(list_1)\n",
    "# [1, 5, 2, 3, 1]\n",
    "print(list_2)\n",
    "# [1, 6, 2, 3, 1]"
   ]
  },
  {
   "cell_type": "code",
   "execution_count": 52,
   "metadata": {},
   "outputs": [
    {
     "data": {
      "text/plain": [
       "[1, 3, 2, 5, 1]"
      ]
     },
     "execution_count": 52,
     "metadata": {},
     "output_type": "execute_result"
    }
   ],
   "source": [
    "list_1.reverse()\n",
    "list_1  # [1, 3, 2, 5, 1]\n"
   ]
  },
  {
   "cell_type": "code",
   "execution_count": 53,
   "metadata": {},
   "outputs": [
    {
     "data": {
      "text/plain": [
       "[1, 1, 2, 3, 5]"
      ]
     },
     "execution_count": 53,
     "metadata": {},
     "output_type": "execute_result"
    }
   ],
   "source": [
    "list_1.sort()\n",
    "list_1  # [1, 1, 2, 3, 5]\n"
   ]
  },
  {
   "cell_type": "code",
   "execution_count": 55,
   "metadata": {},
   "outputs": [
    {
     "data": {
      "text/plain": [
       "[5, 3, 2, 1, 1]"
      ]
     },
     "execution_count": 55,
     "metadata": {},
     "output_type": "execute_result"
    }
   ],
   "source": [
    "list_1.sort(reverse=True)\n",
    "list_1"
   ]
  },
  {
   "cell_type": "code",
   "execution_count": 56,
   "metadata": {},
   "outputs": [
    {
     "name": "stdout",
     "output_type": "stream",
     "text": [
      "['Lion', 'Tiger', 'Zebra']\n",
      "['Zebra', 'Tiger', 'Lion']\n"
     ]
    }
   ],
   "source": [
    "zoo=['Zebra', 'Tiger', 'Lion']\n",
    "zoo_sorted = sorted(zoo)\n",
    "print(zoo_sorted)  # ['Lion', 'Tiger', 'Zebra']\n",
    "print(zoo)"
   ]
  },
  {
   "cell_type": "markdown",
   "metadata": {},
   "source": [
    "### 统计（聚合）\n",
    "|常用方法|功能|\n",
    "|:---|:---|\n",
    "|list.count(a) |统计list中a的个数|\n",
    "|sum(list)|求和|\n",
    "|max(list)|最大值|\n",
    "|min(list)|最小值|"
   ]
  },
  {
   "cell_type": "code",
   "execution_count": 58,
   "metadata": {},
   "outputs": [
    {
     "name": "stdout",
     "output_type": "stream",
     "text": [
      "15 5 1\n"
     ]
    }
   ],
   "source": [
    "numbers = [1, 2, 3, 4, 5]\n",
    "print(sum(numbers),\n",
    "max(numbers),\n",
    "min(numbers))"
   ]
  },
  {
   "cell_type": "code",
   "execution_count": null,
   "metadata": {},
   "outputs": [],
   "source": [
    "list_1=[1, 2, 3, 1]\n",
    "list_1.count(1)\n"
   ]
  },
  {
   "cell_type": "markdown",
   "metadata": {},
   "source": [
    "### 增删插改\n",
    "\n",
    "|常用方法|功能|\n",
    "|:---|:---|\n",
    "|list.append(a) |向list中添加元素a|\n",
    "|list.extend(lst)|向list中添加列表lst|\n",
    "|list.insert(index,item)|在给定index处插入item项|\n",
    "|list.remove(item)|searches for the first instance of the given item in the list and removes it|\n",
    "|list.pop()|从队尾开始删除|\n",
    "|list.pop(index)|删除索引对应的项，并返回删除的值|\n",
    "|del list[]|用于删除切片乃至整个列表|"
   ]
  },
  {
   "cell_type": "code",
   "execution_count": 20,
   "metadata": {},
   "outputs": [
    {
     "name": "stdout",
     "output_type": "stream",
     "text": [
      "['David', 'Mary', 'Henry', 'Swift', 'Lenard']\n",
      "['David', 'Mary', 'Henry', 'Swift', 'Lenard', 'Mary']\n"
     ]
    }
   ],
   "source": [
    "names = ['David', 'Mary', 'Henry', 'Swift', 'Lenard']\n",
    "\n",
    "print(names)\n",
    "names.append('Mary')\n",
    "print(names)"
   ]
  },
  {
   "cell_type": "code",
   "execution_count": 21,
   "metadata": {},
   "outputs": [
    {
     "name": "stdout",
     "output_type": "stream",
     "text": [
      "['Mary', 'Lenard', 'Swift', 'Henry', 'Mary', 'David']\n"
     ]
    }
   ],
   "source": [
    "names.reverse()\n",
    "print(names)"
   ]
  },
  {
   "cell_type": "code",
   "execution_count": 22,
   "metadata": {},
   "outputs": [
    {
     "name": "stdout",
     "output_type": "stream",
     "text": [
      "['David', 'Mary', 'Henry', 'Swift', 'Lenard']\n",
      "['David', 'Mary', 'Henry', 'Swift', 'Lenard', 'Mary']\n"
     ]
    }
   ],
   "source": [
    "names = ['David', 'Mary', 'Henry', 'Swift', 'Lenard']\n",
    "\n",
    "print(names)\n",
    "\n",
    "names.extend(['Mary'])\n",
    "\n",
    "print(names)"
   ]
  },
  {
   "cell_type": "code",
   "execution_count": 23,
   "metadata": {},
   "outputs": [
    {
     "data": {
      "text/plain": [
       "['David', 'Mary', 'Henry', 'Swift', 'Lenard', 'Mary', 'Mary']"
      ]
     },
     "execution_count": 23,
     "metadata": {},
     "output_type": "execute_result"
    }
   ],
   "source": [
    "names+['Mary']"
   ]
  },
  {
   "cell_type": "code",
   "execution_count": 24,
   "metadata": {},
   "outputs": [
    {
     "name": "stdout",
     "output_type": "stream",
     "text": [
      "2\n"
     ]
    }
   ],
   "source": [
    "ages = [25, 23, 23, 21, 26]\n",
    "print(ages.count(23))"
   ]
  },
  {
   "cell_type": "code",
   "execution_count": 25,
   "metadata": {},
   "outputs": [
    {
     "name": "stdout",
     "output_type": "stream",
     "text": [
      "David\n",
      "David\n"
     ]
    }
   ],
   "source": [
    "one = ['David']\n",
    "print(one[-1])\n",
    "print(one[0])"
   ]
  },
  {
   "cell_type": "markdown",
   "metadata": {},
   "source": [
    "# 元组 tuple\n",
    "形似列表，也有**有序**的集合，**不能修改**\n",
    "- 元组拼接\n",
    "- 切片\n",
    "- 拆包\n",
    "- 索引\n",
    "- 聚合方法\n",
    "- zip()"
   ]
  },
  {
   "cell_type": "code",
   "execution_count": 26,
   "metadata": {},
   "outputs": [
    {
     "name": "stdout",
     "output_type": "stream",
     "text": [
      "<class 'list'>\n",
      "<class 'tuple'>\n",
      "['David', 'Mary', 'Henry', 'Swift', 'Lenard']\n",
      "('David', 'Mary', 'Henry', 'Swift', 'Lenard')\n"
     ]
    }
   ],
   "source": [
    "name_list = ['David', 'Mary', 'Henry', 'Swift', 'Lenard']\n",
    "name_tuple = ('David', 'Mary', 'Henry', 'Swift', 'Lenard')\n",
    "\n",
    "print(type(name_list))\n",
    "print(type(name_tuple))\n",
    "\n",
    "print(name_list)\n",
    "print(name_tuple)"
   ]
  },
  {
   "cell_type": "code",
   "execution_count": 27,
   "metadata": {},
   "outputs": [
    {
     "name": "stdout",
     "output_type": "stream",
     "text": [
      "False\n"
     ]
    }
   ],
   "source": [
    "print(name_list==name_tuple)"
   ]
  },
  {
   "cell_type": "markdown",
   "metadata": {},
   "source": [
    "## ``Tuple()`` 函数"
   ]
  },
  {
   "cell_type": "code",
   "execution_count": 59,
   "metadata": {},
   "outputs": [
    {
     "data": {
      "text/plain": [
       "('s', 'u', 's', 't', 'e', 'c', 'h')"
      ]
     },
     "execution_count": 59,
     "metadata": {},
     "output_type": "execute_result"
    }
   ],
   "source": [
    "tuple(\"sustech\")"
   ]
  },
  {
   "cell_type": "code",
   "execution_count": 60,
   "metadata": {},
   "outputs": [
    {
     "data": {
      "text/plain": [
       "('a', 'b')"
      ]
     },
     "execution_count": 60,
     "metadata": {},
     "output_type": "execute_result"
    }
   ],
   "source": [
    "tuple({'a':1,'b':2})"
   ]
  },
  {
   "cell_type": "code",
   "execution_count": 61,
   "metadata": {},
   "outputs": [
    {
     "data": {
      "text/plain": [
       "'David'"
      ]
     },
     "execution_count": 61,
     "metadata": {},
     "output_type": "execute_result"
    }
   ],
   "source": [
    "name_tuple[0]"
   ]
  },
  {
   "cell_type": "markdown",
   "metadata": {},
   "source": [
    "## ``zip()`` 函数\n",
    "\n",
    "Returns a sequence of tuples, where the i-th tuple contains the i-th element from each of the iterables. The aggregation of elements stops when the shortest input iterable is exhausted"
   ]
  },
  {
   "cell_type": "code",
   "execution_count": 62,
   "metadata": {},
   "outputs": [
    {
     "data": {
      "text/plain": [
       "<zip at 0x295efb36340>"
      ]
     },
     "execution_count": 62,
     "metadata": {},
     "output_type": "execute_result"
    }
   ],
   "source": [
    "x = [1, 2, 3]\n",
    "y = [4, 5, 6, 7]\n",
    "\n",
    "zipped = zip(x, y)\n",
    "zipped"
   ]
  },
  {
   "cell_type": "code",
   "execution_count": 63,
   "metadata": {},
   "outputs": [
    {
     "data": {
      "text/plain": [
       "[(1, 4), (2, 5), (3, 6)]"
      ]
     },
     "execution_count": 63,
     "metadata": {},
     "output_type": "execute_result"
    }
   ],
   "source": [
    "list(zipped)"
   ]
  },
  {
   "cell_type": "markdown",
   "metadata": {},
   "source": [
    "# 集合 Set\n",
    "\n",
    "- 集合中没有重复元素，且集合是无序的\n",
    "- unordered collection with no duplicate items \n",
    "- set() and modification\n",
    "- len(),sorted(),update()\n",
    "- add(),discard()\n",
    "- frozenset():immutable"
   ]
  },
  {
   "cell_type": "code",
   "execution_count": 28,
   "metadata": {},
   "outputs": [
    {
     "name": "stdout",
     "output_type": "stream",
     "text": [
      "{'Mary', 'David', 'Swift'}\n"
     ]
    }
   ],
   "source": [
    "names2 = ['David', 'Mary', 'David', 'Swift', 'David']\n",
    "print(set(names2))"
   ]
  },
  {
   "cell_type": "markdown",
   "metadata": {},
   "source": [
    "### 集合的方法\n",
    "- setdata.add(ele)  向setdata中加入ele\n",
    "- setdata.discard(ele)  \n",
    "  - Remove an element from a set if it is a member.\n",
    "  - If the element is not a member, do nothing.\n",
    "\n",
    "- Sets are mutable\n",
    "  - Indexing is not possible in sets, since set items are unordered\n",
    "  - You cannot access or change an item of the set using indexing or slicing"
   ]
  },
  {
   "cell_type": "code",
   "execution_count": 29,
   "metadata": {
    "scrolled": true
   },
   "outputs": [
    {
     "name": "stdout",
     "output_type": "stream",
     "text": [
      "{'Mary', 'David', 'Swift'}\n",
      "{'Mary', 'William', 'David', 'Swift'}\n"
     ]
    }
   ],
   "source": [
    "name_set = set(names2)\n",
    "\n",
    "print(name_set)\n",
    "\n",
    "name_set.add('William')\n",
    "\n",
    "print(name_set)"
   ]
  },
  {
   "cell_type": "code",
   "execution_count": 41,
   "metadata": {},
   "outputs": [
    {
     "data": {
      "text/plain": [
       "{'David', 'Mary', 'Swift'}"
      ]
     },
     "execution_count": 41,
     "metadata": {},
     "output_type": "execute_result"
    }
   ],
   "source": [
    "name_set.discard(\"William\")\n",
    "name_set"
   ]
  },
  {
   "cell_type": "markdown",
   "metadata": {},
   "source": [
    "**集合不能切片**"
   ]
  },
  {
   "cell_type": "code",
   "execution_count": 32,
   "metadata": {},
   "outputs": [
    {
     "ename": "TypeError",
     "evalue": "'set' object is not subscriptable",
     "output_type": "error",
     "traceback": [
      "\u001b[1;31m---------------------------------------------------------------------------\u001b[0m",
      "\u001b[1;31mTypeError\u001b[0m                                 Traceback (most recent call last)",
      "Cell \u001b[1;32mIn[32], line 1\u001b[0m\n\u001b[1;32m----> 1\u001b[0m \u001b[43mname_set\u001b[49m\u001b[43m[\u001b[49m\u001b[38;5;241;43m2\u001b[39;49m\u001b[43m]\u001b[49m\n",
      "\u001b[1;31mTypeError\u001b[0m: 'set' object is not subscriptable"
     ]
    }
   ],
   "source": [
    "name_set[2]"
   ]
  },
  {
   "cell_type": "markdown",
   "metadata": {},
   "source": [
    "### 集合运算：差集（-），并集（|），交集（&），对称差集（^）\n",
    "\n"
   ]
  },
  {
   "cell_type": "code",
   "execution_count": 40,
   "metadata": {},
   "outputs": [
    {
     "data": {
      "text/plain": [
       "{'A', 'B', 'C', 'D', 'E', 'F', 'G'}"
      ]
     },
     "execution_count": 40,
     "metadata": {},
     "output_type": "execute_result"
    }
   ],
   "source": [
    "set1 = {'C', 'D', 'E', 'F', 'G'}\n",
    "set2 = {'E', 'F', 'G', 'A', 'B'}\n",
    "\n",
    "set1|set2"
   ]
  },
  {
   "cell_type": "code",
   "execution_count": 36,
   "metadata": {},
   "outputs": [
    {
     "data": {
      "text/plain": [
       "{'C', 'D'}"
      ]
     },
     "execution_count": 36,
     "metadata": {},
     "output_type": "execute_result"
    }
   ],
   "source": [
    "set1-set2"
   ]
  },
  {
   "cell_type": "code",
   "execution_count": 37,
   "metadata": {},
   "outputs": [
    {
     "data": {
      "text/plain": [
       "{'E', 'F', 'G'}"
      ]
     },
     "execution_count": 37,
     "metadata": {},
     "output_type": "execute_result"
    }
   ],
   "source": [
    "set1&set2"
   ]
  },
  {
   "cell_type": "code",
   "execution_count": 38,
   "metadata": {},
   "outputs": [
    {
     "data": {
      "text/plain": [
       "{'A', 'B', 'C', 'D'}"
      ]
     },
     "execution_count": 38,
     "metadata": {},
     "output_type": "execute_result"
    }
   ],
   "source": [
    "set1^set2"
   ]
  },
  {
   "cell_type": "markdown",
   "metadata": {},
   "source": [
    "### frozenset()\n",
    "\n",
    "A frozenset is basically the same as a set, except that it is immutable. Once a frozenset is created, its items cannot be changed"
   ]
  },
  {
   "cell_type": "code",
   "execution_count": 65,
   "metadata": {},
   "outputs": [
    {
     "data": {
      "text/plain": [
       "frozenset({'d', 'g', 'o'})"
      ]
     },
     "execution_count": 65,
     "metadata": {},
     "output_type": "execute_result"
    }
   ],
   "source": [
    "fs = frozenset([\"g\", \"o\", \"o\", \"d\"])\n",
    "fs"
   ]
  },
  {
   "cell_type": "code",
   "execution_count": 66,
   "metadata": {},
   "outputs": [
    {
     "data": {
      "text/plain": [
       "{'cattle', frozenset({'d', 'g', 'o'}), 'horse'}"
      ]
     },
     "execution_count": 66,
     "metadata": {},
     "output_type": "execute_result"
    }
   ],
   "source": [
    "frozenset({'d', 'o', 'g'})\n",
    "\n",
    "animals = set([fs, \"cattle\", \"horse\"])\n",
    "animals"
   ]
  },
  {
   "cell_type": "code",
   "execution_count": null,
   "metadata": {},
   "outputs": [],
   "source": []
  }
 ],
 "metadata": {
  "kernelspec": {
   "display_name": "Python 3 (ipykernel)",
   "language": "python",
   "name": "python3"
  },
  "language_info": {
   "codemirror_mode": {
    "name": "ipython",
    "version": 3
   },
   "file_extension": ".py",
   "mimetype": "text/x-python",
   "name": "python",
   "nbconvert_exporter": "python",
   "pygments_lexer": "ipython3",
   "version": "3.10.13"
  },
  "toc": {
   "base_numbering": 1,
   "nav_menu": {},
   "number_sections": false,
   "sideBar": true,
   "skip_h1_title": false,
   "title_cell": "Table of Contents",
   "title_sidebar": "Contents",
   "toc_cell": false,
   "toc_position": {},
   "toc_section_display": true,
   "toc_window_display": true
  },
  "varInspector": {
   "cols": {
    "lenName": 16,
    "lenType": 16,
    "lenVar": 40
   },
   "kernels_config": {
    "python": {
     "delete_cmd_postfix": "",
     "delete_cmd_prefix": "del ",
     "library": "var_list.py",
     "varRefreshCmd": "print(var_dic_list())"
    },
    "r": {
     "delete_cmd_postfix": ") ",
     "delete_cmd_prefix": "rm(",
     "library": "var_list.r",
     "varRefreshCmd": "cat(var_dic_list()) "
    }
   },
   "types_to_exclude": [
    "module",
    "function",
    "builtin_function_or_method",
    "instance",
    "_Feature"
   ],
   "window_display": false
  }
 },
 "nbformat": 4,
 "nbformat_minor": 4
}
